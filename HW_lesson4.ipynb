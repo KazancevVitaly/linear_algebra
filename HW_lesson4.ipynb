{
 "cells": [
  {
   "cell_type": "markdown",
   "id": "6d3e1254",
   "metadata": {},
   "source": [
    "# Линейная алгебра\n",
    "# GeekBrains\n",
    "##  ДЗ Урока 4\n",
    "## Виталий Казанцев"
   ]
  },
  {
   "cell_type": "markdown",
   "id": "215a376e",
   "metadata": {},
   "source": [
    "__Часть1__."
   ]
  },
  {
   "cell_type": "markdown",
   "id": "4c66838e",
   "metadata": {},
   "source": [
    "__1.__ Решите систему уравнений методом Гаусса:\n",
    "\n",
    "$$\\begin{cases}\n",
    "x_{1}+x_{2}-x_{3}-2x_{4}=0, \\\\\n",
    "2x_{1}+x_{2}-x_{3}+x_{4}=-2, \\\\\n",
    "x_{1}+x_{2}-3x_{3}+x_{4}=4.\n",
    "\\end{cases}$$\n",
    "\n"
   ]
  },
  {
   "cell_type": "markdown",
   "id": "f0d8f7b0",
   "metadata": {},
   "source": [
    "__Решение:__\n",
    "### $\\begin{pmatrix}\\left.\\begin{matrix}1&1&-1&-2\\\\2&1&-1&1\\\\1&1&-1&1\\end{matrix}\\right|\\begin{matrix}0\\\\-2\\\\4\\end{matrix}\\end{pmatrix}$  \n",
    "Умножим первую строку на -1 и сложим с третьей:  \n",
    "### $\\begin{pmatrix}\\left.\\begin{matrix}1&1&-1&-2\\\\2&1&-1&1\\\\0&0&0&3\\end{matrix}\\right|\\begin{matrix}0\\\\-2\\\\4\\end{matrix}\\end{pmatrix}$  \n",
    "Умножим первую строку на -2 и сложим со второй:  \n",
    "### $\\begin{pmatrix}\\left.\\begin{matrix}1&1&-1&-2\\\\0&-1&1&5\\\\0&0&0&3\\end{matrix}\\right|\\begin{matrix}0\\\\-2\\\\4\\end{matrix}\\end{pmatrix} \\Rightarrow$  \n",
    "### $\\begin{cases}x_{1}+x_{2}-x_{3}-2x_{4}=0\\\\-x_{2}+x_{3}+5x_{4}=-2\\\\3x_{4}=4\\end{cases} \\Rightarrow\\begin{cases}x_{4}=\\frac{4}{3}\\\\x_{3}=c\\\\x_{2}=c+2+\\frac{20}{3}=\\frac{3c+26}{3}\\\\x_{1}=2x_{4}+x_{3}-x_{2}=\\frac{8+3c-3c-26}{3}=-\\frac{18}{3}=-6\\end{cases}$\n",
    "__Ответ:__  \n",
    "### $\\begin{cases}x_{1}=-6\\\\x_{2}=\\frac{3c+26}{3}\\\\x_{3}=c\\\\x_{4}=\\frac{4}{3}\\end{cases}$"
   ]
  },
  {
   "cell_type": "markdown",
   "id": "73a703ab",
   "metadata": {},
   "source": [
    "__2.__ Проверьте на совместность и выясните, сколько решений будет иметь система линейных уравнений:\n",
    "\n",
    "   а) $\\begin{cases}\n",
    "3x_{1}-x_{2}+x_{3}=4, \\\\\n",
    "2x_{1}-5x_{2}-3x_{3}=-17, \\\\\n",
    "x_{1}+x_{2}-x_{3}=0;\n",
    "\\end{cases}$\n",
    "    \n",
    "   б) $\\begin{cases}\n",
    "2x_{1}-4x_{2}+6x_{3}=1, \\\\\n",
    "x_{1}-2x_{2}+3x_{3}=-2, \\\\\n",
    "3x_{1}-6x_{2}+9x_{3}=5;\n",
    "\\end{cases}$\n",
    "    \n",
    "   в) $\\begin{cases}\n",
    "x_{1}+2x_{2}+5x_{3}=4, \\\\\n",
    "3x_{1}+x_{2}-8x_{3}=-2. \n",
    "\\end{cases}$"
   ]
  },
  {
   "cell_type": "markdown",
   "id": "00fe2a48",
   "metadata": {},
   "source": [
    "__Решение:__  \n",
    "__а)__  \n",
    "### $\\begin{pmatrix}\\left.\\begin{matrix}3&-1&1\\\\2&-5&-3\\\\1&1&-1\\end{matrix}\\right|\\begin{matrix}4\\\\-17\\\\0\\end{matrix}\\end{pmatrix}$  \n",
    "$rankA=rank\\tilde A=n=3\\Rightarrow$ по теореме Кронекера - Капелли система определенна, т.е. имеет единственное решение \n",
    "__б)__  \n",
    "### $\\begin{pmatrix}\\left.\\begin{matrix}2&-4&6\\\\1&-2&3\\\\3&-6&9\\end{matrix}\\right|\\begin{matrix}1\\\\-2\\\\5\\end{matrix}\\end{pmatrix}$  \n",
    "тертья строка матрицы коэффициентов - это сумма первой и второй, т.е. $rank A<rank\\tilde A \\Rightarrow$ система несовместна.  \n",
    "__в)__  \n",
    "### $\\begin{pmatrix}\\left.\\begin{matrix}1&2&5\\\\3&1&-8\\end{matrix}\\right|\\begin{matrix}4\\\\-2\\end{matrix}\\end{pmatrix}$  \n",
    "$rank A=rank\\tilde A=2$, при $n=3\\Rightarrow$ система имеет бесконечное множество решений"
   ]
  },
  {
   "cell_type": "markdown",
   "id": "1be5b503",
   "metadata": {},
   "source": [
    "__3.__ Проверьте на совместность и выясните, сколько решений будет иметь система линейных уравнений, заданная расширенной матрицей:\n",
    "\n",
    "$$\\tilde{A}=\\begin{pmatrix}\n",
    "\\left.\\begin{matrix}\n",
    "1 & 3 & -2 & 4\\\\ \n",
    "0 & 5 & 0 & 1\\\\ \n",
    "0 & 0 & 3 & 0\\\\ \n",
    "0 & 0 & 0 & 2\n",
    "\\end{matrix}\\right|\n",
    "\\begin{matrix}\n",
    "3\\\\ \n",
    "2\\\\\n",
    "4\\\\\n",
    "1\n",
    "\\end{matrix}\n",
    "\\end{pmatrix}.$$"
   ]
  },
  {
   "cell_type": "markdown",
   "id": "7794a52c",
   "metadata": {},
   "source": [
    "__Решение:__  \n",
    "$rank A = rank \\tilde A=n=4 \\Rightarrow$ система определенна, т.е. имеет единственное решение.  \n",
    "### $\\begin{cases}x_{4}=\\frac{1}{2}\\\\x_{3}=\\frac{4}{3}\\\\x_{2}=0.3\\\\x_{1}=\\frac{83}{30}\\end{cases}$"
   ]
  },
  {
   "cell_type": "markdown",
   "id": "337f3eaf",
   "metadata": {},
   "source": [
    "__4.__ Дана система линейных уравнений, заданная расширенной матрицей:\n",
    "\n",
    "$$\\tilde{A}=\\begin{pmatrix}\n",
    "\\left.\\begin{matrix}\n",
    "1 & 2 & 3\\\\ \n",
    "4 & 5 & 6\\\\ \n",
    "7 & 8 & 9\n",
    "\\end{matrix}\\right|\n",
    "\\begin{matrix}\n",
    "a\\\\ \n",
    "b\\\\\n",
    "c\n",
    "\\end{matrix}\n",
    "\\end{pmatrix}.$$\n",
    "\n",
    "Найдите соотношение между параметрами $a$, $b$ и $c$, при которых система считается несовместной."
   ]
  },
  {
   "cell_type": "markdown",
   "id": "59adf47f",
   "metadata": {},
   "source": [
    "__Решение:__  \n",
    "от 2 строки отнимаем 1 строку, умноженную на 4; от 3 строки отнимаем 1 строку, умноженную на 7  \n",
    "### $\\begin{pmatrix}\\left.\\begin{matrix}1 & 2 & 3\\\\ 0 & -3 & -6\\\\ 0 & -6 & -12\\end{matrix}\\right|\\begin{matrix}a\\\\ b-4a\\\\c-7a\\end{matrix}\\end{pmatrix}.$\n"
   ]
  },
  {
   "cell_type": "markdown",
   "id": "a7092f53",
   "metadata": {},
   "source": [
    "к третьей строке прибавим вторую строку умноженную на 2, а вторую разделим на три  \n",
    "### $\\begin{pmatrix}\\left.\\begin{matrix}1 & 2 & 3\\\\ 0 & -1 & -2\\\\ 0 & 0 & 0\\end{matrix}\\right|\\begin{matrix}a\\\\ \\frac{b-4a}{3}\\\\c-7a+2(b-4a)\\end{matrix}\\end{pmatrix}.$"
   ]
  },
  {
   "cell_type": "markdown",
   "id": "75bf8840",
   "metadata": {},
   "source": [
    "система будет несовместной при $c-7a+2(b-4a)\\neq0$ решим неравенство\n",
    "### $c-7a+2b-8a\\neq0$\n",
    "### $c+2b-15a\\neq0$\n",
    "### $c\\neq15a-2b$"
   ]
  },
  {
   "cell_type": "markdown",
   "id": "8391e97e",
   "metadata": {},
   "source": [
    "__Часть 2__."
   ]
  },
  {
   "cell_type": "markdown",
   "id": "37d649f3",
   "metadata": {},
   "source": [
    "__1.__ Решите систему уравнений методом Крамера:\n",
    "\n",
    "   а) $\\begin{cases}\n",
    "x_{1}-2x_{2}=1 \\\\\n",
    "3x_{1}-4x_{2}=7\n",
    "\\end{cases}$\n",
    "    \n",
    "   б) $\\begin{cases}\n",
    "2x_{1}-x_{2}+5x_{3}=10 \\\\\n",
    "x_{1}+x_{2}-3x_{3}=-2 \\\\\n",
    "2x_{1}+4x_{2}+x_{3}=1\n",
    "\\end{cases}$\n"
   ]
  },
  {
   "cell_type": "markdown",
   "id": "606a4882",
   "metadata": {},
   "source": [
    "__Решение:__  \n",
    "__а)__  \n",
    "### $detA=\\begin{vmatrix}1&-2\\\\3&-4\\end{vmatrix}=-4+6=2$  \n",
    "### $detA_{1}=\\begin{vmatrix}1&-2\\\\7&-4\\end{vmatrix}=-4+14=10$  \n",
    "### $detA_{2}=\\begin{vmatrix}1&1\\\\3&7\\end{vmatrix}=7-3=4$\n",
    "### $\\begin{cases}x_{1}=5\\\\x_{2}=2\\end{cases}$"
   ]
  },
  {
   "cell_type": "markdown",
   "id": "69434ef7",
   "metadata": {},
   "source": [
    "__б)__  \n",
    "### $detA=\\begin{vmatrix}2&-1&5\\\\1&1&-3\\\\2&4&1\\end{vmatrix}=43$\n",
    "### $detA_{1}=\\begin{vmatrix}10&-1&5\\\\-2&1&-3\\\\1&4&1\\end{vmatrix}=86 \\Rightarrow x_{1}=\\frac{detA_{1}}{detA}=\\frac{86}{43}=2$  \n",
    "### $detA_{2}=\\begin{vmatrix}2&10&5\\\\1&-2&-3\\\\2&1&1\\end{vmatrix}=-43 \\Rightarrow x_{2}=\\frac{detA_{2}}{detA}=\\frac{-43}{43}=-1$\n",
    "### $detA_{3}=\\begin{vmatrix}2&-1&10\\\\1&1&-2\\\\2&4&1\\end{vmatrix}=43 \\Rightarrow x_{3}=\\frac{detA_{3}}{detA}=\\frac{43}{43}=1$"
   ]
  },
  {
   "cell_type": "markdown",
   "id": "f3f9c12d",
   "metadata": {},
   "source": [
    "__2*.__ Найдите $L$-матрицу $LU$-разложения для матрицы коэффициентов:\n",
    "\n",
    "   а)$$\\begin{pmatrix}\n",
    "1 & 2 & 4 \\\\ \n",
    "2 & 9 & 12 \\\\ \n",
    "3 & 26 & 30\n",
    "\\end{pmatrix}$$\n",
    "    \n",
    "   б)$$\\begin{pmatrix}\n",
    "1 & 1 & 2 & 4\\\\ \n",
    "2 & 5 & 8 & 9\\\\ \n",
    "3 & 18 & 29 & 18\\\\\n",
    "4 & 22 & 53 & 33\n",
    "\\end{pmatrix}$$\n",
    "    \n",
    "__3*.__ Решите систему линейных уравнений методом $LU$-разложения:\n",
    "\n",
    "$$\\begin{cases}\n",
    "2x_{1}+x_{2}+3x_{3}=1 \\\\\n",
    "11x_{1}+7x_{2}+5x_{3}=-6 \\\\\n",
    "9x_{1}+8x_{2}+4x_{3}=-5\n",
    "\\end{cases}$$\n",
    "\n",
    "__4*.__ Решите систему линейных уравнений методом Холецкого:\n",
    "\n",
    "$$\\begin{cases}\n",
    "81x_{1}-45x_{2}+45x_{3}=531 \\\\\n",
    "-45x_{1}+50x_{2}-15x_{3}=-460 \\\\\n",
    "45x_{1}-15x_{2}+38x_{3}=193\n",
    "\\end{cases}$$\n",
    "\n",
    "__5*.__ Напишите на Python программу с реализацией одного из изученных алгоритмов решения СЛАУ."
   ]
  },
  {
   "cell_type": "code",
   "execution_count": null,
   "id": "22896165",
   "metadata": {},
   "outputs": [],
   "source": []
  }
 ],
 "metadata": {
  "kernelspec": {
   "display_name": "Python 3 (ipykernel)",
   "language": "python",
   "name": "python3"
  },
  "language_info": {
   "codemirror_mode": {
    "name": "ipython",
    "version": 3
   },
   "file_extension": ".py",
   "mimetype": "text/x-python",
   "name": "python",
   "nbconvert_exporter": "python",
   "pygments_lexer": "ipython3",
   "version": "3.8.8"
  }
 },
 "nbformat": 4,
 "nbformat_minor": 5
}
