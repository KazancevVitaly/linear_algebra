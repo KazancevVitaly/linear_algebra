{
 "cells": [
  {
   "cell_type": "markdown",
   "id": "bf0f69e4",
   "metadata": {},
   "source": [
    "# Линейная алгебра\n",
    "# GeekBrains\n",
    "## ДЗ Урока 4\n",
    "## Виталий Казанцев"
   ]
  },
  {
   "cell_type": "markdown",
   "id": "7497b14f",
   "metadata": {},
   "source": [
    "1. Найдите посредством NumPy SVD для матрицы:\n",
    "\n",
    "$$\\begin{pmatrix}\n",
    "1 & 2 & 0\\\\ \n",
    "0 & 0 & 5\\\\ \n",
    "3 & -4 & 2\\\\ \n",
    "1 & 6 & 5\\\\ \n",
    "0 & 1 & 0\n",
    "\\end{pmatrix}.$$"
   ]
  },
  {
   "cell_type": "code",
   "execution_count": 1,
   "id": "ceacb589",
   "metadata": {},
   "outputs": [],
   "source": [
    "import numpy as np"
   ]
  },
  {
   "cell_type": "code",
   "execution_count": 2,
   "id": "e6eadede",
   "metadata": {},
   "outputs": [
    {
     "name": "stdout",
     "output_type": "stream",
     "text": [
      "Матрица A:\n",
      "[[ 1  2  3]\n",
      " [ 0  0  5]\n",
      " [ 3 -4  2]\n",
      " [ 1  6  5]\n",
      " [ 0  1  0]]\n"
     ]
    }
   ],
   "source": [
    "A = np.array([\n",
    "    [1,2,3],\n",
    "    [0,0,5],\n",
    "    [3,-4,2],\n",
    "    [1,6,5],\n",
    "    [0,1,0]\n",
    "])\n",
    "print(f'Матрица A:\\n{A}')"
   ]
  },
  {
   "cell_type": "code",
   "execution_count": 3,
   "id": "fb6eada5",
   "metadata": {},
   "outputs": [],
   "source": [
    "U, s, W = np.linalg.svd(A)\n",
    "V = W.T\n",
    "D = np.zeros_like(A, dtype=float)\n",
    "D[np.diag_indices(min(A.shape))] = s"
   ]
  },
  {
   "cell_type": "code",
   "execution_count": 10,
   "id": "4365b042",
   "metadata": {},
   "outputs": [
    {
     "name": "stdout",
     "output_type": "stream",
     "text": [
      "Матрица D:\n",
      "[[9.43164369 0.         0.        ]\n",
      " [0.         6.11245421 0.        ]]\n"
     ]
    }
   ],
   "source": [
    "print(f'Матрица D:\\n{D[:2]}')"
   ]
  },
  {
   "cell_type": "code",
   "execution_count": 5,
   "id": "0d0aed44",
   "metadata": {},
   "outputs": [
    {
     "name": "stdout",
     "output_type": "stream",
     "text": [
      "Матрица U:\n",
      "[[ 0.38829992 -0.10757267 -0.18204399 -0.88468356 -0.14780488]\n",
      " [ 0.39997989 -0.46021529  0.7809217   0.04975445  0.12611018]\n",
      " [-0.0824348  -0.85485592 -0.48296     0.15524149  0.07124313]\n",
      " [ 0.82323696  0.17891694 -0.33226026  0.41895909 -0.0659245 ]\n",
      " [ 0.06873627  0.11764393 -0.11564624 -0.12342148  0.97612925]]\n"
     ]
    }
   ],
   "source": [
    "print(f'Матрица U:\\n{U}')"
   ]
  },
  {
   "cell_type": "code",
   "execution_count": 6,
   "id": "43b5a085",
   "metadata": {},
   "outputs": [
    {
     "name": "stdout",
     "output_type": "stream",
     "text": [
      "Матрица V:\n",
      "[[ 0.10223377 -0.40789238 -0.9072883 ]\n",
      " [ 0.64829602  0.71909314 -0.25023454]\n",
      " [ 0.75449356 -0.56260898  0.33795061]]\n"
     ]
    }
   ],
   "source": [
    "print(f'Матрица V:\\n{V}')"
   ]
  },
  {
   "cell_type": "code",
   "execution_count": 7,
   "id": "044ec21e",
   "metadata": {},
   "outputs": [
    {
     "name": "stdout",
     "output_type": "stream",
     "text": [
      "[[ 1.00000000e+00  2.00000000e+00  3.00000000e+00]\n",
      " [ 2.22044605e-16  3.33066907e-16  5.00000000e+00]\n",
      " [ 3.00000000e+00 -4.00000000e+00  2.00000000e+00]\n",
      " [ 1.00000000e+00  6.00000000e+00  5.00000000e+00]\n",
      " [-2.77555756e-17  1.00000000e+00  3.05311332e-16]]\n"
     ]
    }
   ],
   "source": [
    "print(np.dot(np.dot(U, D), V.T))"
   ]
  },
  {
   "cell_type": "markdown",
   "id": "be6a91ba",
   "metadata": {},
   "source": [
    "2. Для матрицы из предыдущего задания найдите:\n",
    "\n",
    "    а) евклидову норму;\n",
    "    \n",
    "    б) норму Фробениуса."
   ]
  },
  {
   "cell_type": "code",
   "execution_count": 8,
   "id": "2cad03bf",
   "metadata": {},
   "outputs": [
    {
     "name": "stdout",
     "output_type": "stream",
     "text": [
      "Евклидова норма для заданной матрицы равна 9.43\n"
     ]
    }
   ],
   "source": [
    "print(f'Евклидова норма для заданной матрицы равна {max(s):.2f}')"
   ]
  },
  {
   "cell_type": "code",
   "execution_count": 9,
   "id": "c5f7b981",
   "metadata": {
    "scrolled": true
   },
   "outputs": [
    {
     "name": "stdout",
     "output_type": "stream",
     "text": [
      "Норма Фробениуса для заданной матрицы равна 11.45\n"
     ]
    }
   ],
   "source": [
    "print(f'Норма Фробениуса для заданной матрицы равна {np.sqrt(sum(s**2)):.2f}')"
   ]
  }
 ],
 "metadata": {
  "kernelspec": {
   "display_name": "Python 3 (ipykernel)",
   "language": "python",
   "name": "python3"
  },
  "language_info": {
   "codemirror_mode": {
    "name": "ipython",
    "version": 3
   },
   "file_extension": ".py",
   "mimetype": "text/x-python",
   "name": "python",
   "nbconvert_exporter": "python",
   "pygments_lexer": "ipython3",
   "version": "3.8.8"
  }
 },
 "nbformat": 4,
 "nbformat_minor": 5
}
