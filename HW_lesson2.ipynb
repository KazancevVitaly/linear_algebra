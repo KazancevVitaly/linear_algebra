{
 "cells": [
  {
   "cell_type": "markdown",
   "id": "b2276652",
   "metadata": {},
   "source": [
    "# Линейная алгебра\n",
    "# GeekBrains\n",
    "## ДЗ Урока 2\n",
    "## Виталий Казанцев"
   ]
  },
  {
   "cell_type": "markdown",
   "id": "86354598",
   "metadata": {},
   "source": [
    "__Часть 1__"
   ]
  },
  {
   "cell_type": "markdown",
   "id": "3a039ca1",
   "metadata": {},
   "source": [
    "Все задания рекомендуется делать вручную, затем проверяя полученные результаты с использованием numpy.\n",
    "\n",
    "__1.__ Установить, какие произведения матриц $AB$ и $BA$ определены, и найти размерности полученных матриц:\n",
    "\n",
    "   а) $A$ — матрица $4\\times 2$, $B$ — матрица $4\\times 2$;\n",
    "    \n",
    "   б) $A$ — матрица $2\\times 5$, $B$ — матрица $5\\times 3$;\n",
    "    \n",
    "   в) $A$ — матрица $8\\times 3$, $B$ — матрица $3\\times 8$;\n",
    "    \n",
    "   г) $A$ — квадратная матрица $4\\times 4$, $B$ — квадратная матрица $4\\times 4$.\n",
    "    "
   ]
  },
  {
   "cell_type": "markdown",
   "id": "59677314",
   "metadata": {},
   "source": [
    "__а)__ Операция невозможна, т.к.  число столбцов матрицы $A$ неравно числу строк матрицы $B$  \n",
    "__б)__ Число столбцов матрицы $A$ равно числу строк матрицы $B$ и равно пяти, следовательно операция $A\\cdot B$ возможна. Результатом будет матрица размерностью $2\\times3$  \n",
    "__в)__ Число столбцов матрицы $A$ равно числу строк матрицы $B$ и равно трём, следовательно операция $A\\cdot B$ возможна. Результатом будет матрица размерностью $8\\times8$  \n",
    "__г)__ Матрицы $A и B$ квадратные размерность четыре, операция умножения возможно, результатом будет матрица $4\\times4$  "
   ]
  },
  {
   "cell_type": "markdown",
   "id": "715394c3",
   "metadata": {},
   "source": [
    "__2.__ Найти сумму и произведение матриц $A=\\begin{pmatrix}\n",
    "1 & -2\\\\ \n",
    "3 & 0\n",
    "\\end{pmatrix}$ и $B=\\begin{pmatrix}\n",
    "4 & -1\\\\ \n",
    "0 & 5\n",
    "\\end{pmatrix}.$\n",
    "\n"
   ]
  },
  {
   "cell_type": "markdown",
   "id": "52f7a2d0",
   "metadata": {},
   "source": [
    "__Решение:__\n",
    "### $A+B=\\begin{pmatrix}1&-2 \\\\ 3&0\\end{pmatrix}+\\begin{pmatrix}4&-1 \\\\ 0&5\\end{pmatrix}=\\begin{pmatrix} 5&-3 \\\\ 3&5\\end{pmatrix}$  \n",
    "### $A\\cdot B=\\begin{pmatrix}1&-2 \\\\ 3&0\\end{pmatrix}\\cdot\\begin{pmatrix}4&-1 \\\\ 0&5\\end{pmatrix}=\\begin{pmatrix}1\\cdot4+(-2)\\cdot0 \\\\ 3\\cdot4+0\\cdot0\\end{pmatrix}  \\begin{pmatrix}1\\cdot(-1)+(-2)\\cdot5 \\\\ 3\\cdot(-1)+0\\cdot5\\end{pmatrix}=\\begin{pmatrix}4&-11 \\\\ 12&-3\\end{pmatrix}$"
   ]
  },
  {
   "cell_type": "code",
   "execution_count": 1,
   "id": "943934d3",
   "metadata": {},
   "outputs": [],
   "source": [
    "import numpy as np"
   ]
  },
  {
   "cell_type": "code",
   "execution_count": 2,
   "id": "a2db0bb7",
   "metadata": {},
   "outputs": [
    {
     "name": "stdout",
     "output_type": "stream",
     "text": [
      "[[ 5 -3]\n",
      " [ 3  5]]\n",
      "[[  4 -11]\n",
      " [ 12  -3]]\n"
     ]
    }
   ],
   "source": [
    "A = np.array([\n",
    "    [1, -2],\n",
    "    [3, 0]\n",
    "])\n",
    "B = np.array([\n",
    "    [4, -1],\n",
    "    [0, 5]\n",
    "])\n",
    "print(A + B)\n",
    "print(np.dot(A, B))"
   ]
  },
  {
   "cell_type": "markdown",
   "id": "2d290a91",
   "metadata": {},
   "source": [
    "__3.__ Из закономерностей сложения и умножения матриц на число можно сделать вывод, что матрицы одного размера образуют линейное пространство. Вычислить линейную комбинацию $3A-2B+4C$ для матриц $A=\\begin{pmatrix}\n",
    "1 & 7\\\\ \n",
    "3 & -6\n",
    "\\end{pmatrix}$, $B=\\begin{pmatrix}\n",
    "0 & 5\\\\ \n",
    "2 & -1\n",
    "\\end{pmatrix}$, $C=\\begin{pmatrix}\n",
    "2 & -4\\\\ \n",
    "1 & 1\n",
    "\\end{pmatrix}.$\n",
    "    \n"
   ]
  },
  {
   "cell_type": "markdown",
   "id": "c147221d",
   "metadata": {},
   "source": [
    "__Решение:__\n",
    "### $3A-2B+4C=3\\cdot\\begin{pmatrix}1&7\\\\3&-6\\end{pmatrix}-2\\begin{pmatrix}0&5\\\\2&-1\\end{pmatrix}+4\\begin{pmatrix}2&-4\\\\1&1\\end{pmatrix}=\\begin{pmatrix}3&21\\\\9&-18\\end{pmatrix}+\\begin{pmatrix}0&-10\\\\-4&2\\end{pmatrix}+\\begin{pmatrix}8&-16\\\\4&4\\end{pmatrix}=\\begin{pmatrix}11&-5\\\\9&-12\\end{pmatrix}$"
   ]
  },
  {
   "cell_type": "code",
   "execution_count": 3,
   "id": "2b5d4d58",
   "metadata": {},
   "outputs": [
    {
     "data": {
      "text/plain": [
       "array([[ 11,  -5],\n",
       "       [  9, -12]])"
      ]
     },
     "execution_count": 3,
     "metadata": {},
     "output_type": "execute_result"
    }
   ],
   "source": [
    "A = np.array([\n",
    "    [1, 7],\n",
    "    [3, -6]\n",
    "])\n",
    "B = np.array([\n",
    "    [0, 5],\n",
    "    [2, -1]\n",
    "])\n",
    "C = np.array([\n",
    "    [2, -4],\n",
    "    [1, 1]\n",
    "])\n",
    "\n",
    "3*A - 2*B + 4*C"
   ]
  },
  {
   "cell_type": "markdown",
   "id": "2c008950",
   "metadata": {},
   "source": [
    "__4.__ Дана матрица $A=\\begin{pmatrix}\n",
    "4 & 1\\\\ \n",
    "5 & -2\\\\ \n",
    "2 & 3\n",
    "\\end{pmatrix}$.\n",
    "Вычислить $AA^{T}$ и $A^{T}A$.\n",
    "\n"
   ]
  },
  {
   "cell_type": "markdown",
   "id": "7a7cef3e",
   "metadata": {},
   "source": [
    "__Решение:__  \n",
    "__а)__  \n",
    "  \n",
    "### $\\begin{pmatrix}4&1\\\\5&-2\\\\2&3\\end{pmatrix}\\cdot\\begin{pmatrix}4&5&2\\\\1&-2&3\\end{pmatrix}=\\begin{pmatrix}4\\cdot4+1\\cdot1&4\\cdot5+1\\cdot(-2)&4\\cdot2+1\\cdot3\\\\5\\cdot4+(-2)\\cdot1&5\\cdot5+(-2)\\cdot(-2)&5\\cdot2+(-2)\\cdot3\\\\2\\cdot4+3\\cdot1&2\\cdot5+3\\cdot(-2)&2\\cdot2+3\\cdot3\\end{pmatrix}=\\begin{pmatrix}17&18&11\\\\18&29&4\\\\11&4&13\\end{pmatrix}$\n",
    "  \n",
    "__б)__  \n",
    "  \n",
    "### $\\begin{pmatrix}4&5&2\\\\1&-2&3\\end{pmatrix}\\cdot\\begin{pmatrix}4&1\\\\5&-2\\\\2&3\\end{pmatrix}=\\begin{pmatrix}4\\cdot4+5\\cdot5+2\\cdot2&4\\cdot1+5\\cdot(-2)+2\\cdot3\\\\1\\cdot4+(-2)\\cdot5+3\\cdot2&1\\cdot1+(-2)\\cdot(-2)+3\\cdot3\\end{pmatrix}=\\begin{pmatrix}45&0\\\\0&14\\end{pmatrix}$"
   ]
  },
  {
   "cell_type": "code",
   "execution_count": 4,
   "id": "eb462f13",
   "metadata": {},
   "outputs": [
    {
     "name": "stdout",
     "output_type": "stream",
     "text": [
      "[[17 18 11]\n",
      " [18 29  4]\n",
      " [11  4 13]]\n",
      "[[45  0]\n",
      " [ 0 14]]\n"
     ]
    }
   ],
   "source": [
    "A = np.array([\n",
    "    [4, 1],\n",
    "    [5, -2],\n",
    "    [2, 3]\n",
    "])\n",
    "AT = A.T\n",
    "print(np.dot(A, AT))\n",
    "print(np.dot(AT, A))"
   ]
  },
  {
   "cell_type": "markdown",
   "id": "5d752c3d",
   "metadata": {},
   "source": [
    "__5*.__ Написать на Python функцию для перемножения двух произвольных матриц, не используя NumPy."
   ]
  },
  {
   "cell_type": "code",
   "execution_count": 5,
   "id": "d88062af",
   "metadata": {},
   "outputs": [],
   "source": [
    "from pprint import pprint\n",
    "\n",
    "def matrix_dot(a: list, b: list):\n",
    "    result = []\n",
    "    # здесь вставить код на проверку, что матрицы можно перемножить, и если можно, тогда код ниже\n",
    "    lenth_a = len(a)\n",
    "    lenth_b = len(b)\n",
    "    for k in range(lenth_a):\n",
    "        lst = []\n",
    "        for i in range(lenth_b):\n",
    "            sums = 0\n",
    "            for j in range(lenth_b):\n",
    "                sums = sums + a[k][j]*b[j][i]\n",
    "            lst.append(sums)\n",
    "        result.append(lst)\n",
    "    return result\n"
   ]
  },
  {
   "cell_type": "code",
   "execution_count": 6,
   "id": "033b16c2",
   "metadata": {},
   "outputs": [
    {
     "name": "stdout",
     "output_type": "stream",
     "text": [
      "[[28, 24, 20], [60, 54, 48]]\n"
     ]
    }
   ],
   "source": [
    "a = [\n",
    "    [1, 2, 3],\n",
    "    [3, 4, 5]\n",
    "]\n",
    "b = [\n",
    "    [7, 8, 9],\n",
    "    [6, 5, 4],\n",
    "    [3, 2, 1]\n",
    "]\n",
    "\n",
    "pprint(matrix_dot(a, b))"
   ]
  },
  {
   "cell_type": "code",
   "execution_count": 7,
   "id": "98e726e1",
   "metadata": {},
   "outputs": [
    {
     "data": {
      "text/plain": [
       "array([[28, 24, 20],\n",
       "       [60, 54, 48]])"
      ]
     },
     "execution_count": 7,
     "metadata": {},
     "output_type": "execute_result"
    }
   ],
   "source": [
    "np.dot(a, b)"
   ]
  },
  {
   "cell_type": "markdown",
   "id": "53e69474",
   "metadata": {},
   "source": [
    "__Часть 2__"
   ]
  },
  {
   "cell_type": "markdown",
   "id": "cc3701be",
   "metadata": {},
   "source": [
    "__1.__ Вычислить определитель:\n",
    "\n",
    "   a)\n",
    "\n",
    "$$\\begin{vmatrix}\n",
    "sinx & -cosx\\\\ \n",
    "cosx & sinx\n",
    "\\end{vmatrix};$$\n",
    "\n",
    "   б)\n",
    "    \n",
    "$$\\begin{vmatrix}\n",
    "4 & 2 & 3\\\\ \n",
    "0 & 5 & 1\\\\ \n",
    "0 & 0 & 9\n",
    "\\end{vmatrix};$$\n",
    "    \n",
    "   в)\n",
    "\n",
    "$$\\begin{vmatrix}\n",
    "1 & 2 & 3\\\\ \n",
    "4 & 5 & 6\\\\ \n",
    "7 & 8 & 9\n",
    "\\end{vmatrix}.$$\n",
    "\n",
    "\n"
   ]
  },
  {
   "cell_type": "markdown",
   "id": "a49c6418",
   "metadata": {},
   "source": [
    "__Решние:__  \n",
    "__а)__  \n",
    "### $det\\begin{vmatrix}sinx & -cosx\\\\cosx & sinx\\end{vmatrix}=\\sin x\\cdot\\sin x - (-\\cos x)\\cdot\\cos x = \\sin^{2}x+\\cos^{2}x=1$  \n",
    "__б)__   \n",
    "### $det\\begin{vmatrix}4 & 2 & 3\\\\0 & 5 & 1\\\\0 & 0 & 9\\end{vmatrix}=4\\cdot5\\cdot9=180$  \n",
    "__в)__  \n",
    "### $det\\begin{vmatrix}1 & 2 & 3\\\\ 4 & 5 & 6\\\\ 7 & 8 & 9\\end{vmatrix}=1\\cdot\\begin{vmatrix}5&6\\\\8&9\\end{vmatrix}-2\\cdot\\begin{vmatrix}4&6\\\\7&9\\end{vmatrix}+3\\begin{vmatrix}4&5\\\\7&9\\end{vmatrix}=(5\\cdot9-6\\cdot8)-2(4\\cdot9-6\\cdot7)+3(4\\cdot8-5\\cdot7)=0$"
   ]
  },
  {
   "cell_type": "markdown",
   "id": "707ae467",
   "metadata": {},
   "source": [
    "__2.__ Определитель матрицы $A$ равен $4$. Найти:\n",
    "\n",
    "   а) $det(A^{2})$;\n",
    "    \n",
    "   б) $det(A^{T})$;\n",
    "    \n",
    "   в) $det(2A)$.\n",
    "   \n"
   ]
  },
  {
   "cell_type": "markdown",
   "id": "585f792e",
   "metadata": {},
   "source": [
    "__Решение:__  \n",
    "__а)__  \n",
    "### $det(A^2)=det(A\\cdot A)=detA\\cdot detA=4\\cdot4=16$  \n",
    "__б)__  \n",
    "### $det(A^{T})=detA=4$  \n",
    "__в)__  \n",
    "### $det(2A)=2^{n}\\cdot4$"
   ]
  },
  {
   "cell_type": "markdown",
   "id": "d37c15aa",
   "metadata": {},
   "source": [
    "__3.__  Доказать, что матрица\n",
    "\n",
    "$$\\begin{pmatrix}\n",
    "-2 & 7 & -3\\\\ \n",
    "4 & -14 & 6\\\\ \n",
    "-3 & 7 & 13\n",
    "\\end{pmatrix}$$\n",
    "   \n",
    "вырожденная.\n"
   ]
  },
  {
   "cell_type": "markdown",
   "id": "d8be8631",
   "metadata": {},
   "source": [
    "__Решение:__  \n",
    "Первая и вторая строки представленной матрицы линейно зависимы, вторая строка - это первая строка умноженная на -2, значит определитель этой матрицы равен нулю, следовательно представленная матрица является вырожденной"
   ]
  },
  {
   "cell_type": "markdown",
   "id": "a98731e7",
   "metadata": {},
   "source": [
    "__4.__ Найти ранг матрицы:\n",
    "\n",
    "   а) $\\begin{pmatrix}\n",
    "1 & 2 & 3\\\\ \n",
    "1 & 1 & 1\\\\ \n",
    "2 & 3 & 4\n",
    "\\end{pmatrix};$\n",
    "\n",
    "   б) $\\begin{pmatrix}\n",
    "0 & 0 & 2 & 1\\\\ \n",
    "0 & 0 & 2 & 2\\\\ \n",
    "0 & 0 & 4 & 3\\\\ \n",
    "2 & 3 & 5 & 6\n",
    "\\end{pmatrix}.$"
   ]
  },
  {
   "cell_type": "markdown",
   "id": "fe612df9",
   "metadata": {},
   "source": [
    "__Решение:__  \n",
    "__а)__  \n",
    "Третья строка - это сумма первой и второй, значит её можно удалить, также поменяем первую и вторрую местами получим  \n",
    "### $\\begin{vmatrix}1&1&1\\\\1&2&3\\end{vmatrix}$  \n",
    "Теперь вычтем из второй строки первую умноженную на один, получим\n",
    "### $\\begin{vmatrix}1&1&1\\\\0&1&2\\end{vmatrix}$ $\\Rightarrow \\text{ ранг матрицы равен 2}$  \n",
    "__б)__  \n",
    "Третья строка - это сумма первой и второй, значит её можно удалить, четвертую строку меняем местамаи с первой  \n",
    "### $\\begin{vmatrix}2&3&5&6\\\\0&0&2&1\\\\0&0&2&2\\end{vmatrix} \\Rightarrow \\text{ ранг матрицы равен 3}$  "
   ]
  },
  {
   "cell_type": "code",
   "execution_count": 8,
   "id": "447615c4",
   "metadata": {},
   "outputs": [
    {
     "name": "stdout",
     "output_type": "stream",
     "text": [
      "2\n",
      "3\n"
     ]
    }
   ],
   "source": [
    "A = np.array([\n",
    "    [1, 2, 3],\n",
    "    [1, 1, 1],\n",
    "    [2, 3, 4]\n",
    "])\n",
    "B = np.array([\n",
    "    [0, 0, 2, 1],\n",
    "    [0, 0, 2, 2],\n",
    "    [0, 0, 4, 3],\n",
    "    [2, 3, 5, 6]\n",
    "])\n",
    "\n",
    "print(np.linalg.matrix_rank(A))\n",
    "print(np.linalg.matrix_rank(B))"
   ]
  }
 ],
 "metadata": {
  "kernelspec": {
   "display_name": "Python 3 (ipykernel)",
   "language": "python",
   "name": "python3"
  },
  "language_info": {
   "codemirror_mode": {
    "name": "ipython",
    "version": 3
   },
   "file_extension": ".py",
   "mimetype": "text/x-python",
   "name": "python",
   "nbconvert_exporter": "python",
   "pygments_lexer": "ipython3",
   "version": "3.8.8"
  }
 },
 "nbformat": 4,
 "nbformat_minor": 5
}
