{
 "cells": [
  {
   "cell_type": "markdown",
   "id": "551ad57c",
   "metadata": {},
   "source": [
    "# GeekBrains\n",
    "## Линейная алгебра.\n",
    "## ДЗ Урока 1\n",
    "## Виталий Казанцев"
   ]
  },
  {
   "cell_type": "markdown",
   "id": "ccfeb95d",
   "metadata": {},
   "source": [
    "__Часть 1__"
   ]
  },
  {
   "cell_type": "markdown",
   "id": "10ebf7f9",
   "metadata": {},
   "source": [
    "__1.__ Исследовать на линейную зависимость:\n",
    "\n",
    "$$f_{1}(x)=e^{x}, f_{2}(x)=1, f_{3}(x)=x+1, f_{4}(x)=x-e^{x}.$$\n"
   ]
  },
  {
   "cell_type": "markdown",
   "id": "3988b0e1",
   "metadata": {},
   "source": [
    "__Решение:__  \n",
    "Заметим, что $f_{3}(x)$ является линейной комбинацией векторов $f_{1}(x), f_{2}(x) и f_{4}(x)$  \n",
    "### $f_{3}(x)=f_{1}(x)+f_{2}(x)+f_{4}(x)=e^{x}+1+x-e^{x}=x+1 \\Rightarrow\\text{Представленные векторы линейно зависимы}$"
   ]
  },
  {
   "cell_type": "markdown",
   "id": "8fc823d5",
   "metadata": {},
   "source": [
    "__2.__ Исследовать на линейную зависимость:\n",
    "$$f_{1}(x)=2, f_{2}(x)=x, f_{3}(x)=x^{2}, f_{4}(x)=(x+1)^{2}$$"
   ]
  },
  {
   "cell_type": "markdown",
   "id": "8e58d5b4",
   "metadata": {},
   "source": [
    "__Решение:__  \n",
    "Заметим, что вектор $f_{4}(x)$ является линейной комбинацией векторов $f_{1}(x), f_{2}(x) и f_{3}(x)$  \n",
    "### $f_{4}(x)=f_{3}(x)+2\\cdot f_{2}(x)+0.5\\cdot f_{1}(x)=x^2+2x+1=(x+1)^2 \\Rightarrow\\text{ Представленные векторы линейно зависимы}$  "
   ]
  },
  {
   "cell_type": "markdown",
   "id": "83f8a356",
   "metadata": {},
   "source": [
    "__3.__ Найти координаты вектора $x = (2, 3, 5)\\in \\mathbb{R}^{3}$ в базисе $b_{1}=(0, 0, 10)$, $b_{2}=(2, 0, 0)$, $b_{3}=(0, 1, 0)$."
   ]
  },
  {
   "cell_type": "markdown",
   "id": "4a79fe61",
   "metadata": {},
   "source": [
    "__Решение:__\n",
    "### $x=\\alpha b_{1}+\\beta b_{2}+\\gamma b_{3} \\Rightarrow \\begin{cases} \\alpha\\cdot0+\\beta\\cdot2+\\gamma\\cdot0=2 \\\\ \\alpha\\cdot0+\\beta\\cdot0+\\gamma\\cdot1=3 \\\\ \\alpha\\cdot10+\\beta\\cdot0+\\gamma\\cdot0=5 \\end{cases} \\Rightarrow \\begin{cases} \\alpha=\\frac{1}{2} \\\\ \\beta=1 \\\\ \\gamma=3\\end{cases}$\n",
    "## __Ответ:__\n",
    "Координаты вектора в заданном базисе $(\\frac{1}{2}b_{1},b_{2},3b_{3})$"
   ]
  },
  {
   "cell_type": "markdown",
   "id": "59cd50fd",
   "metadata": {},
   "source": [
    "##__4.__ Найти координаты вектора $3x^{2}-2x+2\\in\\mathbb{R}^{3}[x]$:\n",
    "\n",
    "а) в базисе $1$, $x$, $x^{2}$;\n",
    "\n",
    "б) в базисе $x^{2}$, $x-1$, $1$."
   ]
  },
  {
   "cell_type": "markdown",
   "id": "e940270f",
   "metadata": {},
   "source": [
    "__Решение:__  \n",
    "__а)__  \n",
    "$\\begin{cases}e_{1}=1,\\\\ e_{2}=x,\\\\ e_{3}=x^2\\end{cases}\\Rightarrow3x^2-2x+2=3e_{3}+(-2)e_{2}+2e_{1}$  \n",
    "  \n",
    "__б)__  \n",
    "$\\begin{cases}e_{1}=x^2,\\\\ e_{2}=x-1,\\\\ e_{3}=1\\end{cases}\\Rightarrow3x^2-2x+2=3e_{1}+(-2)e_{2}+0e{3}$"
   ]
  },
  {
   "cell_type": "markdown",
   "id": "ab0f9774",
   "metadata": {},
   "source": [
    "##__5.__ Установить, является ли линейным подпространством:\n",
    "\n",
    "а) совокупность всех векторов трехмерного пространства, у которых по крайней мере одна из первых двух координат равна нулю;\n",
    "    \n",
    "б) все векторы, являющиеся линейными комбинациями данных векторов $\\{u_{1}, u_{2}, \\ldots, u_{n}\\}$."
   ]
  },
  {
   "cell_type": "markdown",
   "id": "0a25c4c3",
   "metadata": {},
   "source": [
    "__Решение:__  \n",
    "__a)__ Векторы вида $[0,0,a], [0,a,b], [a,0,b]$, где $a$ и $b$ некоторые числа, не образуют линейного подпространства, т.к. согласно определния сумме двух любых элементов данного подпространства должен ставиться в соответсвие третий элемент того же подпространства, в представленном же случае мы можем найти два вектора, сумме которых невозможно найти соответсвие в заданном подпространстве. Например $[0,a,b]+[a,0,b]=[a,a,b]$, т.е. ни одна из первых координат суммы не является нулевой, что противоречит условию. Ответ отрицательный.  \n",
    "__б)__ Ответ утвердительный. Т.к. для любых двух комбинаций мы сможем подобрать третью так, что будет выполнятся условие  \n",
    "$\\sum_{t=1}^{n}\\alpha_{t}u_{t}+\\sum_{t=1}^{n}\\beta_{t}u_{t}=\\sum_{t=1}^{n}\\lambda_{t}u_{t}$\n",
    "также при умножении любого элемента заданного подпространства на любое вещественное число результат возможно сопоставить с элементом из заданного подпространства."
   ]
  },
  {
   "cell_type": "markdown",
   "id": "9a639f11",
   "metadata": {},
   "source": [
    "__Часть 2__"
   ]
  },
  {
   "cell_type": "markdown",
   "id": "225b9df9",
   "metadata": {},
   "source": [
    "__1.__ Найти скалярное произведение векторов $x, y \\in \\mathbb{R}$:<br>\n",
    "а) $x=(0,-3, 6),~y=(-4, 7, 9);$<br>\n",
    "б) $x=(7, -4, 0, 1),~y=(-3, 1, 11, 2).$"
   ]
  },
  {
   "cell_type": "markdown",
   "id": "17fa5564",
   "metadata": {},
   "source": [
    "__Решение:__  \n",
    "a) $\\overline{x}\\cdot\\overline{y}=0\\cdot(-4)+(-3)\\cdot7+6\\cdot9=0-21+54=33$  \n",
    "б) $\\overline{x}\\cdot\\overline{y}=7\\cdot(-3)+(-4)\\cdot1+0\\cdot11+1\\cdot2=-21-4+0+2=23$"
   ]
  },
  {
   "cell_type": "code",
   "execution_count": 1,
   "id": "7ad70812",
   "metadata": {},
   "outputs": [],
   "source": [
    "import numpy as np\n",
    "from numpy.linalg import norm"
   ]
  },
  {
   "cell_type": "code",
   "execution_count": 2,
   "id": "36c41149",
   "metadata": {},
   "outputs": [
    {
     "name": "stdout",
     "output_type": "stream",
     "text": [
      "Ответ:\n",
      "скалярное произведение а)  33\n",
      "скалярное произведение б) -23\n"
     ]
    }
   ],
   "source": [
    "# __a)__\n",
    "x1 = np.array([0,-3,6])\n",
    "y1 = np.array([-4,7,9])\n",
    "scal_1 = np.dot(x1, y1)\n",
    "\n",
    "# __b)__\n",
    "x2 = np.array([7,-4,0,1])\n",
    "y2 = np.array([-3,1,11,2])\n",
    "scla_2 = np.dot(x2, y2)\n",
    "print(f'Ответ:\\nскалярное произведение а)  {scal_1}\\nскалярное произведение б) {scla_2}')"
   ]
  },
  {
   "cell_type": "markdown",
   "id": "03bd4f46",
   "metadata": {},
   "source": [
    "__2.__ Найти нормы векторов $(4, 2, 4)$ и $(12, 3, 4)$ и угол между ними."
   ]
  },
  {
   "cell_type": "markdown",
   "id": "6109d2bd",
   "metadata": {},
   "source": [
    "### $cos\\varphi = \\frac{4\\cdot12+2\\cdot3+4\\cdot4}{\\sqrt{4^{2}+2^{2}+4^{2}}\\sqrt{12^{2}+3^{2}+4^{2}}}=\\frac{70}{\\sqrt{6084}}\\approx 0.89$"
   ]
  },
  {
   "cell_type": "code",
   "execution_count": 3,
   "id": "9f29fed6",
   "metadata": {},
   "outputs": [
    {
     "name": "stdout",
     "output_type": "stream",
     "text": [
      "Ответ:\n",
      "норма вектора v1 = 6.0\n",
      "норма вектора v2 = 13.0\n",
      "угол между векторами равен  0.4568740035326613 радиан\n"
     ]
    }
   ],
   "source": [
    "v1 = np.array([4,2,4])\n",
    "v2 = np.array([12,3,4])\n",
    "norm_v1 = norm(v1)\n",
    "norm_v2 = norm(v2)\n",
    "cos_phi = np.dot(v1, v2) / norm_v1 / norm_v2\n",
    "angle = np.arccos(cos_phi)\n",
    "print(\n",
    "    f'Ответ:\\nнорма вектора v1 = {norm_v1}\\nнорма вектора v2 = {norm_v2}\\n'\n",
    "    f'угол между векторами равен  {angle} радиан'\n",
    ")"
   ]
  },
  {
   "cell_type": "markdown",
   "id": "dec9ec74",
   "metadata": {},
   "source": [
    "__3.__ Будет ли линейное пространство евклидовым, если за скалярное произведение принять:<br>\n",
    "а) произведение длин векторов;<br>\n",
    "б) утроенное обычное скалярное произведение векторов?<br>"
   ]
  },
  {
   "cell_type": "markdown",
   "id": "ccde70a9",
   "metadata": {},
   "source": [
    "__Решение:__  \n",
    "\n",
    "__а)__ Допустим что есть вектор $x$ и вектор $y$, возьмём за скалярное произведени произведение их длин, т.е. $(x,y)=|x|\\cdot|y|$. Проверим подчиняется ли заданное правило следующим четырем аксиомам:\n",
    "1) $(x,y)=(y,x);$<br>\n",
    "2) $(\\lambda x, y)=\\lambda(x, y);$<br>\n",
    "3) $(x_{1}+x_{2},y)=(x_{1},y)+(x_{2},y);$<br>\n",
    "4) $(x, x)\\geq0$, причем $(x,x)=0\\Leftrightarrow x=0.$\n",
    "\n",
    "1) $|x|\\cdot|y|=|y|\\cdot|x|$, т.е. первое условие выполняется  \n",
    "2) $\\lambda\\cdot|x|\\cdot|y|=\\lambda(|x|\\cdot|y|)$, т.е. второе условие выполняется  \n",
    "3) $(|x_{1}|+|x_{2}|)|y|=|x_{1}|\\cdot|y|+|x_{2}|\\cdot|y|$, т.е. третье также условие выполняется  \n",
    "4) $|x|\\cdot|x|\\geq0 $, таким образом заданное правило соответсвует всем 4м аксиомам евклидова пространства. значит при условии а) мы получим евклидово пространство.  \n",
    "__б)__ если за скалярное произведение взять утроенное обычное скалярное произведение векторов, т.е. $(x,y)=3\\cdot|x|\\cdot|y|\\cdot\\cos \\alpha$, тогда пространство также будет евклидовым, так как заданное правило будет соответствовать четырем акиомам."
   ]
  },
  {
   "cell_type": "markdown",
   "id": "59368ab7",
   "metadata": {},
   "source": [
    "__4.__ Какие из нижеперечисленных векторов образуют ортонормированный базис в линейном пространстве $\\mathbb{R}^{3}$:<br>\n",
    "а) $(1,0,0),(0,0,1);$ <br>\n",
    "б) $(1/\\sqrt{2},-1/\\sqrt{2},0),(1/\\sqrt{2},1/\\sqrt{2},0), (0,0,1);$<br>\n",
    "в) $(1/2, -1/2, 0), (0, 1/2, 1/2), (0,0,1);$<br>\n",
    "г) $(1,0,0),(0,1,0),(0,0,1)?$ "
   ]
  },
  {
   "cell_type": "markdown",
   "id": "d0d6ee2e",
   "metadata": {},
   "source": [
    "__Решение__  \n",
    "a) не образуют, т.к. нужно три вектора\n"
   ]
  },
  {
   "cell_type": "code",
   "execution_count": 4,
   "id": "00e17867",
   "metadata": {},
   "outputs": [],
   "source": [
    "def ortonorm_r3(v1, v2, v3):\n",
    "    # проверяем векторты на ортогональность\n",
    "    ortogon = (np.dot(v1, v2), np.dot(v1, v3), np.dot(v2, v3))\n",
    "    # проверяем равно ли произведение вектора на самого себя единице\n",
    "    length = (np.dot(v1, v1), np.dot(v2, v2), np.dot(v3, v3))\n",
    "    result = [ortogon, length]\n",
    "    return result"
   ]
  },
  {
   "cell_type": "code",
   "execution_count": 5,
   "id": "3dc37ca6",
   "metadata": {},
   "outputs": [
    {
     "name": "stdout",
     "output_type": "stream",
     "text": [
      "(0.0, 0.0, 0.0)\n",
      "(0.9999999999999998, 0.9999999999999998, 1)\n"
     ]
    }
   ],
   "source": [
    "# __б)__\n",
    "a = 1/(2**(1/2))\n",
    "x = np.array([a,-a,0])\n",
    "y = np.array([a,a,0])\n",
    "z = np.array([0,0,1])\n",
    "print(ortonorm_r3(x, y, z)[0])\n",
    "print(ortonorm_r3(x, y, z)[1])"
   ]
  },
  {
   "cell_type": "markdown",
   "id": "8be2f666",
   "metadata": {},
   "source": [
    "Таким образом мы видим, что векторы ортогональны и являются единичными, значит состовляют ортонормированный базис"
   ]
  },
  {
   "cell_type": "code",
   "execution_count": 6,
   "id": "d7ec4104",
   "metadata": {},
   "outputs": [
    {
     "name": "stdout",
     "output_type": "stream",
     "text": [
      "(-0.25, 0.0, 0.5)\n",
      "(0.5, 0.5, 1)\n"
     ]
    }
   ],
   "source": [
    "# __в)__\n",
    "x = np.array([0.5,-0.5,0])\n",
    "y = np.array([0, 0.5, 0.5])\n",
    "z = np.array([0,0,1])\n",
    "print(ortonorm_r3(x, y, z)[0])\n",
    "print(ortonorm_r3(x, y, z)[1])"
   ]
  },
  {
   "cell_type": "markdown",
   "id": "170d2f7e",
   "metadata": {},
   "source": [
    "Таким образом мы видим, что векторы не ортогональны и не являются единичными, значит не состовляют ортонормированный базис"
   ]
  },
  {
   "cell_type": "code",
   "execution_count": 7,
   "id": "f467e700",
   "metadata": {},
   "outputs": [
    {
     "name": "stdout",
     "output_type": "stream",
     "text": [
      "(0, 0, 0)\n",
      "(1, 1, 1)\n"
     ]
    }
   ],
   "source": [
    "# __г)__\n",
    "x = np.array([1,0,0])\n",
    "y = np.array([0,1,0])\n",
    "z = np.array([0,0,1])\n",
    "print(ortonorm_r3(x, y, z)[0])\n",
    "print(ortonorm_r3(x, y, z)[1])"
   ]
  },
  {
   "cell_type": "markdown",
   "id": "f37bbb36",
   "metadata": {},
   "source": [
    "Таким образом мы видим, что векторы ортогональны и являются единичными, значит состовляют ортонормированный базис"
   ]
  },
  {
   "cell_type": "markdown",
   "id": "a9c0c355",
   "metadata": {},
   "source": [
    "__Ответ:__  \n",
    "__а) и в)__ -- не состовляют ортонормированный базис  \n",
    "__б) и г)__ -- состовляют ортонормированный базис"
   ]
  }
 ],
 "metadata": {
  "kernelspec": {
   "display_name": "Python 3 (ipykernel)",
   "language": "python",
   "name": "python3"
  },
  "language_info": {
   "codemirror_mode": {
    "name": "ipython",
    "version": 3
   },
   "file_extension": ".py",
   "mimetype": "text/x-python",
   "name": "python",
   "nbconvert_exporter": "python",
   "pygments_lexer": "ipython3",
   "version": "3.8.8"
  }
 },
 "nbformat": 4,
 "nbformat_minor": 5
}
