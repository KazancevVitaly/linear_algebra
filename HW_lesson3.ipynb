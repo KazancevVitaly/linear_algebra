{
 "cells": [
  {
   "cell_type": "markdown",
   "id": "92127610",
   "metadata": {},
   "source": [
    "# Линейная алгебра\n",
    "# GeekBrains\n",
    "## ДЗ Урока 2\n",
    "## Виталий Казанцев"
   ]
  },
  {
   "cell_type": "markdown",
   "id": "0422ffd8",
   "metadata": {},
   "source": [
    "__1.__ Найти собственные векторы и собственные значения для линейного оператора, заданного матрицей\n",
    "\n",
    "$$A=\\begin{pmatrix}\n",
    "-1 & -6\\\\ \n",
    "2 & 6\n",
    "\\end{pmatrix}.$$"
   ]
  },
  {
   "cell_type": "markdown",
   "id": "d291060c",
   "metadata": {},
   "source": [
    "__Решение:__\n",
    "__а)__ Найдем собственные значения.\n",
    "### $detA=det\\begin{vmatrix}-(1+\\lambda) & -6\\\\2 & 6-\\lambda\\end{vmatrix}=-(1+\\lambda)(6-\\lambda)-2\\cdot(-6)=12-(6 -\\lambda+6\\lambda-\\lambda^{2})=\\lambda^{2}-5\\lambda+6$\n",
    "Решив уравнение получим: $\\lambda_{1}=2 \\\\ \\lambda_{2}=3$  \n",
    "__b)__ Теперь найдем собственные вектора\n",
    "### $\\begin{vmatrix}-1 & -6\\\\ 2 & 6\\end{vmatrix}\\cdot\\begin{vmatrix}x_{1}\\\\x_{2}\\end{vmatrix}=2\\cdot\\begin{vmatrix}x_{1}\\\\x_{2}\\end{vmatrix}$\n",
    "### $\\begin{cases}-x_{1}-6x_{2}=2x_{1} \\\\ 2x_{1}+6x_{2}=2x_{2}\\end{cases}\\Rightarrow\\begin{cases}-3x_{1}-6x_{2} =0 \\\\ x_{1}=-2x_{2}\\end{cases}\\Rightarrow\\begin{cases}x_{2}=c \\\\ x_{1}=-2c\\end{cases}\\Rightarrow v_{1}=\\begin{vmatrix}-2\\\\1\\end{vmatrix}$\n",
    "### $\\begin{vmatrix}-1 & -6\\\\ 2 & 6\\end{vmatrix}\\cdot\\begin{vmatrix}x_{1}\\\\x_{2}\\end{vmatrix}=3\\cdot\\begin{vmatrix}x_{1}\\\\x_{2}\\end{vmatrix}$  \n",
    "### $\\begin{cases}-x_{1}-6x_{2}=3x_{1} \\\\ 2x_{1}+6x_{2}=3x_{2}\\end{cases}\\Rightarrow\\begin{cases}x_{2}=c\\\\x_{1}=-1.5c\\end{cases}\\Rightarrow v_{2}=\\begin{vmatrix}-1.5\\\\1\\end{vmatrix}$\n",
    "__Ответ:__  \n",
    "__собственные значения:__  \n",
    "$\\lambda_{1}=2 \\\\ \\lambda_{2}=3$\n",
    "__собственные вектора:__\n",
    "$\\begin{vmatrix}-2c\\\\c\\end{vmatrix} \\\\ \\begin{vmatrix}-1.5c\\\\c\\end{vmatrix}$"
   ]
  },
  {
   "cell_type": "markdown",
   "id": "f07ca9c6",
   "metadata": {},
   "source": [
    "__2.__ Дан оператор поворота на 180 градусов, задаваемый матрицей \n",
    "\n",
    "$$A=\\begin{pmatrix}\n",
    "-1 & 0\\\\ \n",
    "0 & -1\n",
    "\\end{pmatrix}.$$\n",
    "\n",
    "Показать, что __любой__ вектор является для него собственным.\n",
    "\n"
   ]
  },
  {
   "cell_type": "markdown",
   "id": "a4322b5d",
   "metadata": {},
   "source": [
    "__Решение:__\n",
    "### $\\begin{vmatrix}-1 & 0\\\\ 0 & -1\\end{vmatrix}\\cdot\\begin{vmatrix}a\\\\b\\end{vmatrix}=\\lambda\\cdot\\begin{vmatrix}a\\\\b\\end{vmatrix}$\n",
    "### $\\begin{cases}-a=\\lambda a\\\\-b=\\lambda b\\end{cases}\\Rightarrow \\lambda=-1$\n",
    "__Вывод:__ любой вектор для данного оператора будет собственным."
   ]
  },
  {
   "cell_type": "markdown",
   "id": "184553c0",
   "metadata": {},
   "source": [
    "__3.__ Пусть линейный оператор задан матрицей\n",
    "\n",
    "$$A=\\begin{pmatrix}\n",
    "1 & 1\\\\ \n",
    "-1 & 3\n",
    "\\end{pmatrix}.$$\n",
    "\n",
    "Установить, является ли вектор $x=(1,1)$ собственным вектором этого линейного оператора.\n",
    "\n"
   ]
  },
  {
   "cell_type": "markdown",
   "id": "299d26be",
   "metadata": {},
   "source": [
    "__Решение:__\n",
    "### $\\begin{vmatrix}1 & 1\\\\ -1 & 3\\end{vmatrix}\\cdot\\begin{vmatrix}1\\\\1\\end{vmatrix}=\\lambda\\cdot\\begin{vmatrix}1\\\\1\\end{vmatrix}$\n",
    "### $\\begin{cases}1+1=\\lambda1\\\\-1+3=\\lambda1\\end{cases}\\Rightarrow \\text{ вектор $x=(1,1)$ является собственным вектором этого линейного оператора}.$"
   ]
  },
  {
   "cell_type": "markdown",
   "id": "585b90fb",
   "metadata": {},
   "source": [
    "**4.** Пусть линейный оператор задан матрицей\n",
    "\n",
    "$$A=\\begin{pmatrix} 0 & 3 & 0\\\\ 3 & 0 & 0\\\\ 0 & 0 & 3 \\end{pmatrix}.$$\n",
    "\n",
    "Установить, является ли вектор $x=(3, -3, -4)$ собственным вектором этого линейного оператора."
   ]
  },
  {
   "cell_type": "markdown",
   "id": "a0af54a6",
   "metadata": {},
   "source": [
    "__Решение:__\n",
    "### $\\begin{vmatrix}0&3&0\\\\3&0&0\\\\0&0&3\\end{vmatrix}\\cdot\\begin{vmatrix}3\\\\-3\\\\-4\\end{vmatrix}=\\lambda\\cdot\\begin{vmatrix}3\\\\-3\\\\-4\\end{vmatrix}$\n",
    "### $\\begin{cases}-9=\\lambda3\\\\9=-\\lambda3\\\\-12=-\\lambda4\\end{cases}$  \n",
    "Система не имеет решений, значит вектор $x=(3,-3,-4)$ не является собственным для данного оператора"
   ]
  }
 ],
 "metadata": {
  "kernelspec": {
   "display_name": "Python 3 (ipykernel)",
   "language": "python",
   "name": "python3"
  },
  "language_info": {
   "codemirror_mode": {
    "name": "ipython",
    "version": 3
   },
   "file_extension": ".py",
   "mimetype": "text/x-python",
   "name": "python",
   "nbconvert_exporter": "python",
   "pygments_lexer": "ipython3",
   "version": "3.8.8"
  }
 },
 "nbformat": 4,
 "nbformat_minor": 5
}
