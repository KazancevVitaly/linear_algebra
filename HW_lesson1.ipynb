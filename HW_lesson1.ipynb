{
 "cells": [
  {
   "cell_type": "markdown",
   "id": "b2276652",
   "metadata": {},
   "source": [
    "# Линейная алгебра\n",
    "# GeekBrains\n",
    "## ДЗ Урока 2\n",
    "## Виталий Казанцев"
   ]
  },
  {
   "cell_type": "markdown",
   "id": "86354598",
   "metadata": {},
   "source": [
    "__Часть 1__"
   ]
  },
  {
   "cell_type": "markdown",
   "id": "3a039ca1",
   "metadata": {},
   "source": [
    "Все задания рекомендуется делать вручную, затем проверяя полученные результаты с использованием numpy.\n",
    "\n",
    "__1.__ Установить, какие произведения матриц $AB$ и $BA$ определены, и найти размерности полученных матриц:\n",
    "\n",
    "   а) $A$ — матрица $4\\times 2$, $B$ — матрица $4\\times 2$;\n",
    "    \n",
    "   б) $A$ — матрица $2\\times 5$, $B$ — матрица $5\\times 3$;\n",
    "    \n",
    "   в) $A$ — матрица $8\\times 3$, $B$ — матрица $3\\times 8$;\n",
    "    \n",
    "   г) $A$ — квадратная матрица $4\\times 4$, $B$ — квадратная матрица $4\\times 4$.\n",
    "    "
   ]
  },
  {
   "cell_type": "markdown",
   "id": "59677314",
   "metadata": {},
   "source": [
    "__а)__ Операция невозможна, т.к.  число столбцов матрицы $A$ неравно числу строк матрицы $B$  \n",
    "__б)__ Число столбцов матрицы $A$ равно числу строк матрицы $B$ и равно пяти, следовательно операция $A\\cdot B$ возможна. Результатом будет матрица размерностью $2\\times3$  \n",
    "__в)__ Число столбцов матрицы $A$ равно числу строк матрицы $B$ и равно трём, следовательно операция $A\\cdot B$ возможна. Результатом будет матрица размерностью $8\\times8$  \n",
    "__г)__ Матрицы $A и B$ квадратные размерность четыре, операция умножения возможно, результатом будет матрица $4\\times4$  "
   ]
  },
  {
   "cell_type": "markdown",
   "id": "715394c3",
   "metadata": {},
   "source": [
    "__2.__ Найти сумму и произведение матриц $A=\\begin{pmatrix}\n",
    "1 & -2\\\\ \n",
    "3 & 0\n",
    "\\end{pmatrix}$ и $B=\\begin{pmatrix}\n",
    "4 & -1\\\\ \n",
    "0 & 5\n",
    "\\end{pmatrix}.$\n",
    "\n"
   ]
  },
  {
   "cell_type": "markdown",
   "id": "52f7a2d0",
   "metadata": {},
   "source": [
    "__Решение:__\n",
    "### $A+B=\\begin{pmatrix}1&-2 \\\\ 3&0\\end{pmatrix}+\\begin{pmatrix}4&-1 \\\\ 0&5\\end{pmatrix}=\\begin{pmatrix} 5&-3 \\\\ 3&5\\end{pmatrix}$  \n",
    "### $A\\cdot B=\\begin{pmatrix}1&-2 \\\\ 3&0\\end{pmatrix}\\cdot\\begin{pmatrix}4&-1 \\\\ 0&5\\end{pmatrix}=\\begin{pmatrix}1\\cdot4+(-2)\\cdot0 \\\\ 3\\cdot4+0\\cdot0\\end{pmatrix}  \\begin{pmatrix}1\\cdot(-1)+(-2)\\cdot5 \\\\ 3\\cdot(-1)+0\\cdot5\\end{pmatrix}=\\begin{pmatrix}4&-11 \\\\ 12&-3\\end{pmatrix}$"
   ]
  },
  {
   "cell_type": "code",
   "execution_count": 4,
   "id": "943934d3",
   "metadata": {},
   "outputs": [],
   "source": [
    "import numpy as np"
   ]
  },
  {
   "cell_type": "code",
   "execution_count": 7,
   "id": "a2db0bb7",
   "metadata": {},
   "outputs": [
    {
     "name": "stdout",
     "output_type": "stream",
     "text": [
      "[[ 5 -3]\n",
      " [ 3  5]]\n",
      "[[  4 -11]\n",
      " [ 12  -3]]\n"
     ]
    }
   ],
   "source": [
    "A = np.array([\n",
    "    [1, -2],\n",
    "    [3, 0]\n",
    "])\n",
    "B = np.array([\n",
    "    [4, -1],\n",
    "    [0, 5]\n",
    "])\n",
    "print(A + B)\n",
    "print(np.dot(A, B))"
   ]
  },
  {
   "cell_type": "markdown",
   "id": "2d290a91",
   "metadata": {},
   "source": [
    "__3.__ Из закономерностей сложения и умножения матриц на число можно сделать вывод, что матрицы одного размера образуют линейное пространство. Вычислить линейную комбинацию $3A-2B+4C$ для матриц $A=\\begin{pmatrix}\n",
    "1 & 7\\\\ \n",
    "3 & -6\n",
    "\\end{pmatrix}$, $B=\\begin{pmatrix}\n",
    "0 & 5\\\\ \n",
    "2 & -1\n",
    "\\end{pmatrix}$, $C=\\begin{pmatrix}\n",
    "2 & -4\\\\ \n",
    "1 & 1\n",
    "\\end{pmatrix}.$\n",
    "    \n"
   ]
  },
  {
   "cell_type": "markdown",
   "id": "c147221d",
   "metadata": {},
   "source": [
    "__Решение:__\n",
    "### $3A-2B+4C=3\\cdot\\begin{pmatrix}1&7\\\\3&-6\\end{pmatrix}-2\\begin{pmatrix}0&5\\\\2&-1\\end{pmatrix}+4\\begin{pmatrix}2&-4\\\\1&1\\end{pmatrix}=\\begin{pmatrix}3&21\\\\9&-18\\end{pmatrix}+\\begin{pmatrix}0&-10\\\\-4&2\\end{pmatrix}+\\begin{pmatrix}8&-16\\\\4&4\\end{pmatrix}=\\begin{pmatrix}11&-5\\\\9&-12\\end{pmatrix}$"
   ]
  },
  {
   "cell_type": "code",
   "execution_count": 8,
   "id": "2b5d4d58",
   "metadata": {},
   "outputs": [
    {
     "data": {
      "text/plain": [
       "array([[ 11,  -5],\n",
       "       [  9, -12]])"
      ]
     },
     "execution_count": 8,
     "metadata": {},
     "output_type": "execute_result"
    }
   ],
   "source": [
    "A = np.array([\n",
    "    [1, 7],\n",
    "    [3, -6]\n",
    "])\n",
    "B = np.array([\n",
    "    [0, 5],\n",
    "    [2, -1]\n",
    "])\n",
    "C = np.array([\n",
    "    [2, -4],\n",
    "    [1, 1]\n",
    "])\n",
    "\n",
    "3*A - 2*B + 4*C"
   ]
  },
  {
   "cell_type": "markdown",
   "id": "2c008950",
   "metadata": {},
   "source": [
    "__4.__ Дана матрица $A=\\begin{pmatrix}\n",
    "4 & 1\\\\ \n",
    "5 & -2\\\\ \n",
    "2 & 3\n",
    "\\end{pmatrix}$.\n",
    "Вычислить $AA^{T}$ и $A^{T}A$.\n",
    "\n"
   ]
  },
  {
   "cell_type": "markdown",
   "id": "7a7cef3e",
   "metadata": {},
   "source": [
    "__Решение:__  \n",
    "__а)__  \n",
    "  \n",
    "### $\\begin{pmatrix}4&1\\\\5&-2\\\\2&3\\end{pmatrix}\\cdot\\begin{pmatrix}4&5&2\\\\1&-2&3\\end{pmatrix}=\\begin{pmatrix}4\\cdot4+1\\cdot1&4\\cdot5+1\\cdot(-2)&4\\cdot2+1\\cdot3\\\\5\\cdot4+(-2)\\cdot1&5\\cdot5+(-2)\\cdot(-2)&5\\cdot2+(-2)\\cdot3\\\\2\\cdot4+3\\cdot1&2\\cdot5+3\\cdot(-2)&2\\cdot2+3\\cdot3\\end{pmatrix}=\\begin{pmatrix}17&18&11\\\\18&29&4\\\\11&4&13\\end{pmatrix}$\n",
    "  \n",
    "__б)__  \n",
    "  \n",
    "### $\\begin{pmatrix}4&5&2\\\\1&-2&3\\end{pmatrix}\\cdot\\begin{pmatrix}4&1\\\\5&-2\\\\2&3\\end{pmatrix}=\\begin{pmatrix}4\\cdot4+5\\cdot5+2\\cdot2&4\\cdot1+5\\cdot(-2)+2\\cdot3\\\\1\\cdot4+(-2)\\cdot5+3\\cdot2&1\\cdot1+(-2)\\cdot(-2)+3\\cdot3\\end{pmatrix}=\\begin{pmatrix}45&0\\\\0&14\\end{pmatrix}$"
   ]
  },
  {
   "cell_type": "code",
   "execution_count": 11,
   "id": "eb462f13",
   "metadata": {},
   "outputs": [
    {
     "name": "stdout",
     "output_type": "stream",
     "text": [
      "[[17 18 11]\n",
      " [18 29  4]\n",
      " [11  4 13]]\n",
      "[[45  0]\n",
      " [ 0 14]]\n"
     ]
    }
   ],
   "source": [
    "A = np.array([\n",
    "    [4, 1],\n",
    "    [5, -2],\n",
    "    [2, 3]\n",
    "])\n",
    "AT = A.T\n",
    "print(np.dot(A, AT))\n",
    "print(np.dot(AT, A))"
   ]
  },
  {
   "cell_type": "markdown",
   "id": "5d752c3d",
   "metadata": {},
   "source": [
    "__5*.__ Написать на Python функцию для перемножения двух произвольных матриц, не используя NumPy."
   ]
  },
  {
   "cell_type": "code",
   "execution_count": 15,
   "id": "d88062af",
   "metadata": {},
   "outputs": [],
   "source": [
    "def matrix_dot(a, b):\n",
    "    result = []\n",
    "    if len(a[0]) == len(b):\n",
    "        pass\n",
    "    "
   ]
  },
  {
   "cell_type": "code",
   "execution_count": 20,
   "id": "033b16c2",
   "metadata": {},
   "outputs": [
    {
     "name": "stdout",
     "output_type": "stream",
     "text": [
      "0\n",
      "1\n"
     ]
    }
   ],
   "source": [
    "a = [\n",
    "    [1, 2, 3],\n",
    "    [3, 4, 5]\n",
    "]\n",
    "b = [\n",
    "    [7, 8, 9],\n",
    "    [6, 5, 4],\n",
    "    [3, 2, 1]\n",
    "]\n",
    "\n",
    "for i in range(len(a)):\n",
    "    print(i)"
   ]
  }
 ],
 "metadata": {
  "kernelspec": {
   "display_name": "Python 3 (ipykernel)",
   "language": "python",
   "name": "python3"
  },
  "language_info": {
   "codemirror_mode": {
    "name": "ipython",
    "version": 3
   },
   "file_extension": ".py",
   "mimetype": "text/x-python",
   "name": "python",
   "nbconvert_exporter": "python",
   "pygments_lexer": "ipython3",
   "version": "3.8.8"
  }
 },
 "nbformat": 4,
 "nbformat_minor": 5
}
