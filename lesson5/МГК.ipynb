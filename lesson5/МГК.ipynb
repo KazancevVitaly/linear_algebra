{
 "cells": [
  {
   "cell_type": "markdown",
   "metadata": {},
   "source": [
    "### Факторный анализ\n",
    "\n",
    "__Факторный анализ__ — это способ приведения множества непосредственно наблюдаемых факторов $x_j$, $j = 1, \\dots, m$, к меньшему числу новых линейно независимых факторов $y_j$, $j = 1, \\dots, q$, $q < m$.\n",
    "\n",
    "Рассмотрим __метод главных компонент__. Этот метод заключается в вычислении собственных значений и собственных векторов для ковариационной матрицы:\n",
    "$$\\operatorname{cov} = \\left(\n",
    "\\begin{array}{cccc}\n",
    "\\sigma_1^2 & \\sigma_{12} & \\dots & \\sigma_{1m} \\\\\n",
    "\\sigma_{12} & \\sigma_2^2 & \\dots & \\sigma_{2m} \\\\\n",
    "\\vdots & \\vdots & \\ddots & \\vdots \\\\\n",
    "\\sigma_{1m} & \\sigma_{2m} & \\dots & \\sigma_m^2\n",
    "\\end{array}\n",
    "\\right)\n",
    "$$"
   ]
  },
  {
   "cell_type": "markdown",
   "metadata": {},
   "source": [
    "__Краткий экскурс в линейную алгебру__\n",
    "\n",
    "Давайте разберёмся, что такое собственные векторы и собственные значения матрицы. Рассмотрим матрицу $X$:"
   ]
  },
  {
   "cell_type": "code",
   "execution_count": 1,
   "metadata": {},
   "outputs": [],
   "source": [
    "import numpy as np"
   ]
  },
  {
   "cell_type": "code",
   "execution_count": 2,
   "metadata": {},
   "outputs": [
    {
     "name": "stdout",
     "output_type": "stream",
     "text": [
      "[[ 1.   1.5]\n",
      " [ 1.5 -0.5]]\n"
     ]
    }
   ],
   "source": [
    "X = np.array([[1,    1.5],\n",
    "              [1.5, -0.5]])\n",
    "\n",
    "print(X)"
   ]
  },
  {
   "cell_type": "markdown",
   "metadata": {},
   "source": [
    "Любая квадратная матрица _действует_ на соответствующих векторах, переставляя их в пространстве. Например, возьмём произвольный вектор:"
   ]
  },
  {
   "cell_type": "code",
   "execution_count": 3,
   "metadata": {},
   "outputs": [],
   "source": [
    "v = np.array([1.1, -0.9])"
   ]
  },
  {
   "cell_type": "markdown",
   "metadata": {},
   "source": [
    "Действие матрицы $X$ на этом векторе происходит с помощью операции _умножения матриц_. Подробнее про умножение матриц: \n",
    "\n",
    "Например, умножим матрицу $X$ на выбранный вектор $v$. В результате, получим какой-то новый вектор:"
   ]
  },
  {
   "cell_type": "code",
   "execution_count": 4,
   "metadata": {},
   "outputs": [
    {
     "data": {
      "text/plain": [
       "array([-0.25,  2.1 ])"
      ]
     },
     "execution_count": 4,
     "metadata": {},
     "output_type": "execute_result"
    }
   ],
   "source": [
    "X.dot(v)"
   ]
  },
  {
   "cell_type": "markdown",
   "metadata": {},
   "source": [
    "Визуализируем этот процесс на картинке. Здесь синим обозначен вектор $v$, а оранжевым — его образ $X \\cdot v$."
   ]
  },
  {
   "cell_type": "code",
   "execution_count": 5,
   "metadata": {},
   "outputs": [],
   "source": [
    "from matplotlib import pyplot as plt\n",
    "plt.style.use('seaborn-whitegrid')"
   ]
  },
  {
   "cell_type": "code",
   "execution_count": 7,
   "metadata": {},
   "outputs": [
    {
     "data": {
      "image/png": "[encoded data removed]",
      "text/plain": [
       "<Figure size 432x288 with 1 Axes>"
      ]
     },
     "metadata": {},
     "output_type": "display_data"
    }
   ],
   "source": [
    "plt.arrow(0, 0, v[0], v[1], color='C0', width=0.02)\n",
    "plt.arrow(0, 0, X.dot(v)[0], X.dot(v)[1], color='C1', width=0.01)\n",
    "\n",
    "plt.xlim(-0.5, 1.5)\n",
    "plt.ylim(-1.5, 2.5);"
   ]
  },
  {
   "cell_type": "markdown",
   "metadata": {},
   "source": [
    "Вектор $v$ и его _образ_ под действием $X$ не имеют между собой ничего особенно общего. \n",
    "\n",
    "Оказывается, для любой матрицы существуют особые векторы, которые под действием этой матрицы либо растягиваются, либо сжимаются. Такие векторы называются __собственными__. Вычислим собственные векторы и собственные значения (о них чуть позже) для матрицы $X$:"
   ]
  },
  {
   "cell_type": "code",
   "execution_count": 8,
   "metadata": {},
   "outputs": [
    {
     "name": "stdout",
     "output_type": "stream",
     "text": [
      "собственные значения:\n",
      "[ 1.92705098 -1.42705098]\n",
      "\n",
      "собственные векторы:\n",
      "[[ 0.85065081 -0.52573111]\n",
      " [ 0.52573111  0.85065081]]\n"
     ]
    }
   ],
   "source": [
    "eigenvalues, eigenvectors = np.linalg.eig(X)\n",
    "\n",
    "print(f'собственные значения:\\n{eigenvalues}\\n')\n",
    "print(f'собственные векторы:\\n{eigenvectors}')"
   ]
  },
  {
   "cell_type": "markdown",
   "metadata": {},
   "source": [
    "_Замечание_. Векторы тут записаны именно _в столбцах_.\n",
    "\n",
    "Итак, возьмём, например, первый из этих векторов и попробуем подействовать матрицей на него."
   ]
  },
  {
   "cell_type": "code",
   "execution_count": 9,
   "metadata": {},
   "outputs": [
    {
     "data": {
      "text/plain": [
       "array([0.85065081, 0.52573111])"
      ]
     },
     "execution_count": 9,
     "metadata": {},
     "output_type": "execute_result"
    }
   ],
   "source": [
    "v = eigenvectors[:, 0]\n",
    "v"
   ]
  },
  {
   "cell_type": "code",
   "execution_count": 10,
   "metadata": {},
   "outputs": [
    {
     "data": {
      "text/plain": [
       "array([1.63924748, 1.01311066])"
      ]
     },
     "execution_count": 10,
     "metadata": {},
     "output_type": "execute_result"
    }
   ],
   "source": [
    "X.dot(v)"
   ]
  },
  {
   "cell_type": "code",
   "execution_count": 11,
   "metadata": {},
   "outputs": [
    {
     "data": {
      "text/plain": [
       "(0.0, 1.5)"
      ]
     },
     "execution_count": 11,
     "metadata": {},
     "output_type": "execute_result"
    },
    {
     "data": {
      "image/png": "[encoded data removed]",
      "text/plain": [
       "<Figure size 432x288 with 1 Axes>"
      ]
     },
     "metadata": {},
     "output_type": "display_data"
    }
   ],
   "source": [
    "plt.arrow(0, 0, v[0], v[1], color='C0', width=0.02)\n",
    "plt.arrow(0, 0, X.dot(v)[0], X.dot(v)[1], color='C1', width=0.01)\n",
    "\n",
    "plt.xlim(0, 2)\n",
    "plt.ylim(0, 1.5)"
   ]
  },
  {
   "cell_type": "markdown",
   "metadata": {},
   "source": [
    "Как мы видим, вектор $v$ (синий) под действием матрицы $X$ растянулся (оранжевый). Давайте проверим, во сколько раз он растянулся."
   ]
  },
  {
   "cell_type": "code",
   "execution_count": 12,
   "metadata": {},
   "outputs": [
    {
     "data": {
      "text/plain": [
       "array([1.92705098, 1.92705098])"
      ]
     },
     "execution_count": 12,
     "metadata": {},
     "output_type": "execute_result"
    }
   ],
   "source": [
    "X.dot(v) / v"
   ]
  },
  {
   "cell_type": "markdown",
   "metadata": {},
   "source": [
    "Если покомпонентно разделить образ $X \\cdot v$ на оригинальный вектор $v$, мы увидим, что значения получились одинаковыми. Это согласуется с тем, что векторы $X \\cdot v$ и $v$ параллельны друг другу."
   ]
  },
  {
   "cell_type": "code",
   "execution_count": 13,
   "metadata": {},
   "outputs": [
    {
     "data": {
      "text/plain": [
       "array([1.63924747, 1.01311065])"
      ]
     },
     "execution_count": 13,
     "metadata": {},
     "output_type": "execute_result"
    }
   ],
   "source": [
    "v * 1.92705098"
   ]
  },
  {
   "cell_type": "code",
   "execution_count": 14,
   "metadata": {},
   "outputs": [
    {
     "data": {
      "text/plain": [
       "array([1.63924748, 1.01311066])"
      ]
     },
     "execution_count": 14,
     "metadata": {},
     "output_type": "execute_result"
    }
   ],
   "source": [
    "X.dot(v)"
   ]
  },
  {
   "cell_type": "markdown",
   "metadata": {},
   "source": [
    "Отметим, что этот множитель мы уже где-то видели. Он является собственным значением, соответствующим этому вектору:"
   ]
  },
  {
   "cell_type": "code",
   "execution_count": 15,
   "metadata": {},
   "outputs": [
    {
     "data": {
      "text/plain": [
       "array([ 1.92705098, -1.42705098])"
      ]
     },
     "execution_count": 15,
     "metadata": {},
     "output_type": "execute_result"
    }
   ],
   "source": [
    "eigenvalues"
   ]
  },
  {
   "cell_type": "markdown",
   "metadata": {},
   "source": [
    "Итак, для матрицы $X$ __собственный вектор__ — это такой вектор, который под действием $X$ не меняет направление, а лишь растягивается или сжимается. __Собственное значение__, соответствующее этому собственному вектору — это тот коэффициент, на который он растягивается/сжимается."
   ]
  },
  {
   "cell_type": "markdown",
   "metadata": {},
   "source": [
    "__Назад к методу главных компонент__\n",
    "\n",
    "Допустим, имеется матрица объект-признак: $X = \\left( x_{ij} \\right)_{n \\times m}$ (т.е. $n$ объектов, $m$ признаков).\n",
    "\n",
    "__Метод главных компонент__:\n",
    "\n",
    "1. _Центрировать_ матрицу $X$, т.е. вычесть из каждого столбца среднее по этому столбцу. В результате получится матрица $X^\\ast = \\left( x_{ij}^\\ast \\right)_{n \\times m}$, в которой средние по столбцам равны $0$.\n",
    "2. Вычислить матрицу несмещённых оценок ковариаций $\\operatorname{cov} = \\left( \\sigma_{ij} \\right)_{m \\times m}$.\n",
    "3. Вычислить собственные векторы и собственные значения матрицы $\\operatorname{cov}$.\n",
    "4. Пусть $T$ — матрица, составленная из $q$ собственных векторов (столбцов), соответствующих $q$ наибольшим собственным значениям. Новая матрица объект-признак: $Y = X^\\ast \\cdot T$."
   ]
  },
  {
   "cell_type": "markdown",
   "metadata": {},
   "source": [
    "__Пример 4__\n",
    "\n",
    "Рассмотрим матрицу объект признак:"
   ]
  },
  {
   "cell_type": "code",
   "execution_count": 16,
   "metadata": {},
   "outputs": [],
   "source": [
    "samples = np.array([[ 2.36499331, -0.57978654],\n",
    "                    [ 5.70144948,  3.54257542],\n",
    "                    [ 5.27028536,  2.1560189 ],\n",
    "                    [ 4.14275078,  0.39188923],\n",
    "                    [ 3.93109011,  0.87195848],\n",
    "                    [ 4.59408573,  2.17496773],\n",
    "                    [ 3.53666882,  0.84484304],\n",
    "                    [ 5.13601245,  2.74557671],\n",
    "                    [ 4.40989037,  1.7030094 ],\n",
    "                    [ 5.05796456,  1.86949263]])"
   ]
  },
  {
   "cell_type": "markdown",
   "metadata": {},
   "source": [
    "Поскольку признаков всего $2$, соответствующие объекты можно расположить на плоскости:"
   ]
  },
  {
   "cell_type": "code",
   "execution_count": 17,
   "metadata": {},
   "outputs": [
    {
     "data": {
      "text/plain": [
       "<matplotlib.collections.PathCollection at 0x11a8d32b0>"
      ]
     },
     "execution_count": 17,
     "metadata": {},
     "output_type": "execute_result"
    },
    {
     "data": {
      "image/png": "[encoded data removed]",
      "text/plain": [
       "<Figure size 432x288 with 1 Axes>"
      ]
     },
     "metadata": {},
     "output_type": "display_data"
    }
   ],
   "source": [
    "plt.scatter(samples[:, 0], samples[:, 1])"
   ]
  },
  {
   "cell_type": "markdown",
   "metadata": {},
   "source": [
    "Как мы видим, объекты более-менее лежат на одной прямой. Это означает, что мы можем попытаться заменить два признака на один, при этом не потеряв слишком много информации. Для этого воспользуемся методом главных компонент. Сначала центрируем наши данные:"
   ]
  },
  {
   "cell_type": "code",
   "execution_count": 20,
   "metadata": {},
   "outputs": [
    {
     "data": {
      "text/plain": [
       "array([[4.4145191, 1.5720545]])"
      ]
     },
     "execution_count": 20,
     "metadata": {},
     "output_type": "execute_result"
    }
   ],
   "source": [
    "samples.mean(axis=0, keepdims=True)"
   ]
  },
  {
   "cell_type": "code",
   "execution_count": 21,
   "metadata": {},
   "outputs": [
    {
     "name": "stdout",
     "output_type": "stream",
     "text": [
      "[[-2.04952579 -2.15184104]\n",
      " [ 1.28693038  1.97052092]\n",
      " [ 0.85576626  0.5839644 ]\n",
      " [-0.27176832 -1.18016527]\n",
      " [-0.48342899 -0.70009602]\n",
      " [ 0.17956663  0.60291323]\n",
      " [-0.87785028 -0.72721146]\n",
      " [ 0.72149335  1.17352221]\n",
      " [-0.00462873  0.1309549 ]\n",
      " [ 0.64344546  0.29743813]]\n"
     ]
    }
   ],
   "source": [
    "samples_centered = samples - samples.mean(axis=0, keepdims=True)\n",
    "\n",
    "print(samples_centered)"
   ]
  },
  {
   "cell_type": "code",
   "execution_count": 22,
   "metadata": {},
   "outputs": [
    {
     "data": {
      "text/plain": [
       "array([-3.10862447e-16, -1.33226763e-16])"
      ]
     },
     "execution_count": 22,
     "metadata": {},
     "output_type": "execute_result"
    }
   ],
   "source": [
    "samples_centered.mean(axis=0)"
   ]
  },
  {
   "cell_type": "code",
   "execution_count": 23,
   "metadata": {},
   "outputs": [
    {
     "data": {
      "text/plain": [
       "<matplotlib.collections.PathCollection at 0x11a9385e0>"
      ]
     },
     "execution_count": 23,
     "metadata": {},
     "output_type": "execute_result"
    },
    {
     "data": {
      "image/png": "[encoded data removed]",
      "text/plain": [
       "<Figure size 432x288 with 1 Axes>"
      ]
     },
     "metadata": {},
     "output_type": "display_data"
    }
   ],
   "source": [
    "plt.scatter(samples_centered[:, 0], samples_centered[:, 1])"
   ]
  },
  {
   "cell_type": "markdown",
   "metadata": {},
   "source": [
    "Теперь посчитаем матрицу ковариаций. Отметим, что если функция `numpy.cov` получает на вход двумерный массив, а не несколько одномерных массивов, то ожидается, что значения каждого признака будут расположены в строках (а не в столбцах, как у нас). Поэтому в эту функцию мы подаём транспонированную матрицу `samples_centered.T`."
   ]
  },
  {
   "cell_type": "code",
   "execution_count": 26,
   "metadata": {},
   "outputs": [
    {
     "name": "stdout",
     "output_type": "stream",
     "text": [
      "[[0.95934497 1.09880063]\n",
      " [1.09880063 1.45693615]]\n"
     ]
    }
   ],
   "source": [
    "cov = np.cov(samples_centered.T, ddof=1)\n",
    "\n",
    "print(cov)"
   ]
  },
  {
   "cell_type": "code",
   "execution_count": 27,
   "metadata": {},
   "outputs": [
    {
     "data": {
      "text/plain": [
       "array([0.95934497, 1.45693615])"
      ]
     },
     "execution_count": 27,
     "metadata": {},
     "output_type": "execute_result"
    }
   ],
   "source": [
    "np.var(samples_centered, axis=0, ddof=1)"
   ]
  },
  {
   "cell_type": "markdown",
   "metadata": {},
   "source": [
    "Собственные значения и собственные векторы можно теперь получить с помощью функции `numpy.linalg.eig`."
   ]
  },
  {
   "cell_type": "code",
   "execution_count": 28,
   "metadata": {},
   "outputs": [
    {
     "name": "stdout",
     "output_type": "stream",
     "text": [
      "eigenvalues:\n",
      "[0.08152525 2.33475587]\n",
      "\n",
      "eivenvectors:\n",
      "[[-0.78129206 -0.62416562]\n",
      " [ 0.62416562 -0.78129206]]\n"
     ]
    }
   ],
   "source": [
    "eigenvalues, eigenvectors = np.linalg.eig(cov)\n",
    "\n",
    "print(f'eigenvalues:\\n{eigenvalues}\\n')\n",
    "print(f'eivenvectors:\\n{eigenvectors}')"
   ]
  },
  {
   "cell_type": "markdown",
   "metadata": {},
   "source": [
    "Ещё раз напомним, что в массиве `eigenvectors` векторы записаны именно в столбцах."
   ]
  },
  {
   "cell_type": "markdown",
   "metadata": {},
   "source": [
    "Итак, мы хотим получить один признак, поэтому возьмём второй вектор (он соответствует второму собственному значению, которое сильно больше первого). Домножим матрицу `samples_centered` на этот вектор, чтобы получить новую матрицу объект-признак."
   ]
  },
  {
   "cell_type": "code",
   "execution_count": 29,
   "metadata": {},
   "outputs": [
    {
     "data": {
      "text/plain": [
       "array([[-2.04952579, -2.15184104],\n",
       "       [ 1.28693038,  1.97052092],\n",
       "       [ 0.85576626,  0.5839644 ],\n",
       "       [-0.27176832, -1.18016527],\n",
       "       [-0.48342899, -0.70009602],\n",
       "       [ 0.17956663,  0.60291323],\n",
       "       [-0.87785028, -0.72721146],\n",
       "       [ 0.72149335,  1.17352221],\n",
       "       [-0.00462873,  0.1309549 ],\n",
       "       [ 0.64344546,  0.29743813]])"
      ]
     },
     "execution_count": 29,
     "metadata": {},
     "output_type": "execute_result"
    }
   ],
   "source": [
    "samples_centered"
   ]
  },
  {
   "cell_type": "code",
   "execution_count": 30,
   "metadata": {},
   "outputs": [
    {
     "data": {
      "text/plain": [
       "array([[-0.62416562],\n",
       "       [-0.78129206]])"
      ]
     },
     "execution_count": 30,
     "metadata": {},
     "output_type": "execute_result"
    }
   ],
   "source": [
    "eigenvectors[:, [1]]"
   ]
  },
  {
   "cell_type": "code",
   "execution_count": 31,
   "metadata": {},
   "outputs": [
    {
     "name": "stdout",
     "output_type": "stream",
     "text": [
      "[[ 2.96045985]\n",
      " [-2.34281004]\n",
      " [-0.99038663]\n",
      " [ 1.09168219]\n",
      " [ 0.84871921]\n",
      " [-0.58313064]\n",
      " [ 1.1160885 ]\n",
      " [-1.36719493]\n",
      " [-0.09942493]\n",
      " [-0.63400259]]\n"
     ]
    }
   ],
   "source": [
    "new_samples = samples_centered.dot(eigenvectors[:, [1]])\n",
    "\n",
    "print(new_samples)"
   ]
  },
  {
   "cell_type": "markdown",
   "metadata": {},
   "source": [
    "Качество метода главных компонент можно оценить, сравнивая дисперсии признаков до и после применения метода. \n",
    "    \n",
    "Пусть $\\sigma_X^2$ — сумма дисперсий признаков до применения метода, а $\\sigma_Y^2$ — сумма дисперсий после применения метода. Тогда __доля объяснённой дисперсии__ равна отношению \n",
    "$$\\dfrac{\\sigma_Y^2}{\\sigma_X^2}$$\n",
    "\n",
    "_Замечание_. Поскольку мы в некотором смысле «отсеиваем» признаки, сумма дисперсий после применения метода не может быть больше, чем до.\n",
    "\n",
    "Долю объяснённой дисперсии можно интерпретировать как процент сохранённой информации."
   ]
  },
  {
   "cell_type": "markdown",
   "metadata": {},
   "source": [
    "Посчитаем долю объяснённой дисперсии этого нового признака. Общая дисперсия до применения метода:"
   ]
  },
  {
   "cell_type": "code",
   "execution_count": 32,
   "metadata": {},
   "outputs": [
    {
     "data": {
      "text/plain": [
       "2.416281116587471"
      ]
     },
     "execution_count": 32,
     "metadata": {},
     "output_type": "execute_result"
    }
   ],
   "source": [
    "variance_before = np.var(samples, axis=0, ddof=1).sum()\n",
    "variance_before"
   ]
  },
  {
   "cell_type": "markdown",
   "metadata": {},
   "source": [
    "Посчитаем несмещённую оценку дисперсии нового признака и найдём его долю от общей дисперсии:"
   ]
  },
  {
   "cell_type": "code",
   "execution_count": 34,
   "metadata": {},
   "outputs": [
    {
     "data": {
      "text/plain": [
       "2.3347558703559046"
      ]
     },
     "execution_count": 34,
     "metadata": {},
     "output_type": "execute_result"
    }
   ],
   "source": [
    "variance_after = np.var(new_samples, axis=0, ddof=1).sum()\n",
    "\n",
    "variance_after"
   ]
  },
  {
   "cell_type": "code",
   "execution_count": 35,
   "metadata": {},
   "outputs": [
    {
     "data": {
      "text/plain": [
       "0.966260032546749"
      ]
     },
     "execution_count": 35,
     "metadata": {},
     "output_type": "execute_result"
    }
   ],
   "source": [
    "variance_after / variance_before"
   ]
  },
  {
   "cell_type": "code",
   "execution_count": 36,
   "metadata": {},
   "outputs": [
    {
     "name": "stdout",
     "output_type": "stream",
     "text": [
      "[[ 2.96045985]\n",
      " [-2.34281004]\n",
      " [-0.99038663]\n",
      " [ 1.09168219]\n",
      " [ 0.84871921]\n",
      " [-0.58313064]\n",
      " [ 1.1160885 ]\n",
      " [-1.36719493]\n",
      " [-0.09942493]\n",
      " [-0.63400259]]\n",
      "[0.96626003]\n"
     ]
    }
   ],
   "source": [
    "from sklearn.decomposition import PCA\n",
    "pca = PCA(n_components=1)\n",
    "print(pca.fit_transform(samples))\n",
    "print(pca.explained_variance_ratio_)"
   ]
  },
  {
   "cell_type": "markdown",
   "metadata": {},
   "source": [
    "Такое значение доли объяснённой дисперсии можно интерпретировать так: используя новые данные вместо старых, мы сохраним около $96.6\\%$ информации, т.е. потеряем лишь $3.4 \\%$, что довольно неплохо."
   ]
  }
 ],
 "metadata": {
  "colab": {
   "name": "Матстат - Урок 8.ipynb",
   "provenance": [],
   "version": "0.3.2"
  },
  "kernelspec": {
   "display_name": "Python 3 (ipykernel)",
   "language": "python",
   "name": "python3"
  },
  "language_info": {
   "codemirror_mode": {
    "name": "ipython",
    "version": 3
   },
   "file_extension": ".py",
   "mimetype": "text/x-python",
   "name": "python",
   "nbconvert_exporter": "python",
   "pygments_lexer": "ipython3",
   "version": "3.8.8"
  }
 },
 "nbformat": 4,
 "nbformat_minor": 4
}
